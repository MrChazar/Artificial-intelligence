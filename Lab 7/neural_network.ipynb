{
 "cells": [
  {
   "cell_type": "code",
   "execution_count": 1,
   "id": "initial_id",
   "metadata": {
    "collapsed": true,
    "ExecuteTime": {
     "end_time": "2024-12-13T20:48:25.443231500Z",
     "start_time": "2024-12-13T20:48:25.271180100Z"
    }
   },
   "outputs": [],
   "source": [
    "import random"
   ]
  },
  {
   "cell_type": "markdown",
   "source": [
    "# Create Neural Network class\n"
   ],
   "metadata": {
    "collapsed": false
   },
   "id": "4839341801241dfa"
  },
  {
   "cell_type": "code",
   "execution_count": 2,
   "outputs": [],
   "source": [
    "class NeuralNetwork:\n",
    "    def __init__(self, teaching_set, learning_ratio, num_of_inputs, num_of_hidden_layers, num_of_exit_layers):\n",
    "        self.teaching_set = teaching_set\n",
    "        self.learning_ratio = learning_ratio\n",
    "        self.num_of_inpust = num_of_inputs\n",
    "        self.num_of_hidden_layers = num_of_hidden_layers\n",
    "        self.num_of_exit_layers = num_of_exit_layers\n",
    "        \n",
    "    def neuron(self):\n",
    "        print(self.num_of_exit_layers)\n"
   ],
   "metadata": {
    "collapsed": false,
    "ExecuteTime": {
     "end_time": "2024-12-13T21:25:29.589629500Z",
     "start_time": "2024-12-13T21:25:29.497343100Z"
    }
   },
   "id": "1415a9a815b31e18"
  },
  {
   "cell_type": "code",
   "execution_count": 3,
   "outputs": [
    {
     "name": "stdout",
     "output_type": "stream",
     "text": [
      "5\n"
     ]
    }
   ],
   "source": [
    "siec = NeuralNetwork([],[],3,5,5)\n",
    "siec.neuron()"
   ],
   "metadata": {
    "collapsed": false,
    "ExecuteTime": {
     "end_time": "2024-12-13T21:44:37.174792500Z",
     "start_time": "2024-12-13T21:44:37.141718100Z"
    }
   },
   "id": "6a435cac164ca30c"
  },
  {
   "cell_type": "code",
   "execution_count": null,
   "outputs": [],
   "source": [],
   "metadata": {
    "collapsed": false
   },
   "id": "ba55a95b2a1da369"
  }
 ],
 "metadata": {
  "kernelspec": {
   "display_name": "Python 3",
   "language": "python",
   "name": "python3"
  },
  "language_info": {
   "codemirror_mode": {
    "name": "ipython",
    "version": 2
   },
   "file_extension": ".py",
   "mimetype": "text/x-python",
   "name": "python",
   "nbconvert_exporter": "python",
   "pygments_lexer": "ipython2",
   "version": "2.7.6"
  }
 },
 "nbformat": 4,
 "nbformat_minor": 5
}
